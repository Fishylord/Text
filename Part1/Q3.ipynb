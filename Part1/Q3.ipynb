{
 "cells": [
  {
   "cell_type": "code",
   "execution_count": 3,
   "metadata": {},
   "outputs": [
    {
     "name": "stdout",
     "output_type": "stream",
     "text": [
      "['C:\\\\Users\\\\62811/nltk_data', 'd:\\\\Text\\\\.venv\\\\nltk_data', 'd:\\\\Text\\\\.venv\\\\share\\\\nltk_data', 'd:\\\\Text\\\\.venv\\\\lib\\\\nltk_data', 'C:\\\\Users\\\\62811\\\\AppData\\\\Roaming\\\\nltk_data', 'C:\\\\nltk_data', 'D:\\\\nltk_data', 'E:\\\\nltk_data']\n"
     ]
    }
   ],
   "source": [
    "import nltk\n",
    "print(nltk.data.path)\n",
    "from nltk import pos_tag, word_tokenize, RegexpTagger, CFG\n",
    "from textblob import TextBlob"
   ]
  },
  {
   "cell_type": "code",
   "execution_count": 4,
   "metadata": {},
   "outputs": [
    {
     "name": "stderr",
     "output_type": "stream",
     "text": [
      "[nltk_data] Downloading package punkt_tab to\n",
      "[nltk_data]     C:\\Users\\62811\\AppData\\Roaming\\nltk_data...\n",
      "[nltk_data]   Package punkt_tab is already up-to-date!\n",
      "[nltk_data] Downloading package averaged_perceptron_tagger_eng to\n",
      "[nltk_data]     C:\\Users\\62811\\AppData\\Roaming\\nltk_data...\n",
      "[nltk_data]   Package averaged_perceptron_tagger_eng is already up-to-\n",
      "[nltk_data]       date!\n"
     ]
    },
    {
     "data": {
      "text/plain": [
       "True"
      ]
     },
     "execution_count": 4,
     "metadata": {},
     "output_type": "execute_result"
    }
   ],
   "source": [
    "nltk.download('punkt_tab')\n",
    "nltk.download('averaged_perceptron_tagger_eng')"
   ]
  },
  {
   "cell_type": "markdown",
   "metadata": {},
   "source": [
    "File Reading"
   ]
  },
  {
   "cell_type": "code",
   "execution_count": 5,
   "metadata": {},
   "outputs": [
    {
     "name": "stdout",
     "output_type": "stream",
     "text": [
      "The big black dog barked at the white cat and chased away.\n"
     ]
    }
   ],
   "source": [
    "with open(\"Data_2.txt\", \"r\") as file:\n",
    "    sentence = file.read().strip()\n",
    "    print(sentence)"
   ]
  },
  {
   "cell_type": "markdown",
   "metadata": {},
   "source": [
    "NLTK POS Tagging"
   ]
  },
  {
   "cell_type": "code",
   "execution_count": 6,
   "metadata": {},
   "outputs": [
    {
     "name": "stdout",
     "output_type": "stream",
     "text": [
      "NLTK POS Tagger output:\n",
      "[('The', 'DT'), ('big', 'JJ'), ('black', 'JJ'), ('dog', 'NN'), ('barked', 'VBD'), ('at', 'IN'), ('the', 'DT'), ('white', 'JJ'), ('cat', 'NN'), ('and', 'CC'), ('chased', 'VBD'), ('away', 'RB'), ('.', '.')]\n"
     ]
    }
   ],
   "source": [
    "tokens = word_tokenize(sentence)\n",
    "nltk_tags = pos_tag(tokens)\n",
    "print(\"NLTK POS Tagger output:\")\n",
    "print(nltk_tags)"
   ]
  },
  {
   "cell_type": "markdown",
   "metadata": {},
   "source": [
    "Textblob POS Tagging"
   ]
  },
  {
   "cell_type": "code",
   "execution_count": 7,
   "metadata": {},
   "outputs": [
    {
     "name": "stdout",
     "output_type": "stream",
     "text": [
      "\n",
      "TextBlob POS Tagger output:\n",
      "[('The', 'DT'), ('big', 'JJ'), ('black', 'JJ'), ('dog', 'NN'), ('barked', 'VBD'), ('at', 'IN'), ('the', 'DT'), ('white', 'JJ'), ('cat', 'NN'), ('and', 'CC'), ('chased', 'VBD'), ('away', 'RB')]\n"
     ]
    }
   ],
   "source": [
    "blob = TextBlob(sentence)\n",
    "textblob_tags = blob.tags\n",
    "print(\"\\nTextBlob POS Tagger output:\")\n",
    "print(textblob_tags)"
   ]
  },
  {
   "cell_type": "markdown",
   "metadata": {},
   "source": [
    "Regex POS Tagging"
   ]
  },
  {
   "cell_type": "code",
   "execution_count": 14,
   "metadata": {},
   "outputs": [],
   "source": [
    "patterns = [\n",
    "    (r'.*ing$', 'VBG'),              # gerunds\n",
    "    (r'.*ed$', 'VBD'),               # simple past\n",
    "    (r'.*es$', 'VBZ'),               # 3rd singular present\n",
    "    (r'.*ould$', 'MD'),              # modals\n",
    "    (r'.*\\'s$', 'NN$'),              # possessive nouns\n",
    "    (r'.*s$', 'NNS'),                # plural nouns\n",
    "    (r'^-?[0-9]+(.[0-9]+)?$', 'CD'), # cardinal numbers\n",
    "    (r'.*ly$', 'RB'),                 # adverbs   \n",
    "    (r'The', 'DT'),                  # determiner 'The'  (more specific)\n",
    "    (r'.*', 'NN')                    # nouns (default)  \n",
    "]"
   ]
  },
  {
   "cell_type": "code",
   "execution_count": 15,
   "metadata": {},
   "outputs": [
    {
     "name": "stdout",
     "output_type": "stream",
     "text": [
      "\n",
      "Regular Expression Tagger output:\n",
      "[('The', 'DT'), ('quick', 'NN'), ('brown', 'NN'), ('fox', 'NN'), ('jumps', 'NNS'), ('over', 'NN'), ('the', 'NN'), ('lazy', 'NN'), ('dog', 'NN')]\n"
     ]
    }
   ],
   "source": [
    "regexp_tagger = RegexpTagger(patterns)\n",
    "regex_tags = regexp_tagger.tag(tokens)\n",
    "print(\"\\nRegular Expression Tagger output:\")\n",
    "print(regex_tags)"
   ]
  },
  {
   "cell_type": "markdown",
   "metadata": {},
   "source": [
    "Drawing Parse Tree"
   ]
  },
  {
   "cell_type": "code",
   "execution_count": 18,
   "metadata": {},
   "outputs": [],
   "source": [
    "grammar = CFG.fromstring(\"\"\"\n",
    "S    -> NP VP\n",
    "NP   -> Det AdjP N\n",
    "AdjP -> Adj | Adj AdjP\n",
    "VP   -> V PP | V Adv | VP Conj VP\n",
    "PP   -> P NP\n",
    "Det  -> 'The' | 'the'\n",
    "N    -> 'dog' | 'cat'\n",
    "Adj  -> 'big' | 'black' | 'white'\n",
    "V    -> 'barked' | 'chased'\n",
    "Adv -> 'away'\n",
    "P    -> 'at'\n",
    "Conj -> 'and'\n",
    "\"\"\")"
   ]
  },
  {
   "cell_type": "code",
   "execution_count": 19,
   "metadata": {},
   "outputs": [
    {
     "name": "stdout",
     "output_type": "stream",
     "text": [
      "\n",
      "Parse Trees:\n",
      "(S\n",
      "  (NP (Det The) (AdjP (Adj big) (AdjP (Adj black))) (N dog))\n",
      "  (VP\n",
      "    (VP\n",
      "      (V barked)\n",
      "      (PP (P at) (NP (Det the) (AdjP (Adj white)) (N cat))))\n",
      "    (Conj and)\n",
      "    (VP (V chased) (Adv away))))\n",
      "                               S                                        \n",
      "      _________________________|____________                             \n",
      "     |                                      VP                          \n",
      "     |                              ________|____________________        \n",
      "     |                             VP                |           |      \n",
      "     |                    _________|___              |           |       \n",
      "     NP                  |             PP            |           |      \n",
      "  ___|______________     |      _______|____         |           |       \n",
      " |      AdjP        |    |     |            NP       |           |      \n",
      " |    ___|_____     |    |     |    ________|____    |           |       \n",
      " |   |        AdjP  |    |     |   |       AdjP  |   |           VP     \n",
      " |   |         |    |    |     |   |        |    |   |      _____|___    \n",
      "Det Adj       Adj   N    V     P  Det      Adj   N  Conj   V        Adv \n",
      " |   |         |    |    |     |   |        |    |   |     |         |   \n",
      "The big      black dog barked  at the     white cat and  chased     away\n",
      "\n"
     ]
    }
   ],
   "source": [
    "tokens = ['The', 'big', 'black', 'dog', 'barked', 'at', 'the', 'white', 'cat', 'and', 'chased', 'away']\n",
    "parser = nltk.ChartParser(grammar)\n",
    "print(\"\\nParse Trees:\")\n",
    "for tree in parser.parse(tokens):\n",
    "    print(tree)\n",
    "    tree.pretty_print()\n"
   ]
  }
 ],
 "metadata": {
  "kernelspec": {
   "display_name": ".venv",
   "language": "python",
   "name": "python3"
  },
  "language_info": {
   "codemirror_mode": {
    "name": "ipython",
    "version": 3
   },
   "file_extension": ".py",
   "mimetype": "text/x-python",
   "name": "python",
   "nbconvert_exporter": "python",
   "pygments_lexer": "ipython3",
   "version": "3.11.9"
  }
 },
 "nbformat": 4,
 "nbformat_minor": 2
}
