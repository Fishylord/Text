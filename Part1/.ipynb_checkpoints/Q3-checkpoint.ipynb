{
 "cells": [
  {
   "cell_type": "code",
   "execution_count": 15,
   "metadata": {},
   "outputs": [
    {
     "ename": "ModuleNotFoundError",
     "evalue": "No module named 'nltk'",
     "output_type": "error",
     "traceback": [
      "\u001b[1;31m---------------------------------------------------------------------------\u001b[0m",
      "\u001b[1;31mModuleNotFoundError\u001b[0m                       Traceback (most recent call last)",
      "Cell \u001b[1;32mIn[15], line 1\u001b[0m\n\u001b[1;32m----> 1\u001b[0m \u001b[38;5;28;01mimport\u001b[39;00m\u001b[38;5;250m \u001b[39m\u001b[38;5;21;01mnltk\u001b[39;00m\n\u001b[0;32m      2\u001b[0m \u001b[38;5;28mprint\u001b[39m(nltk\u001b[38;5;241m.\u001b[39mdata\u001b[38;5;241m.\u001b[39mpath)\n\u001b[0;32m      3\u001b[0m \u001b[38;5;28;01mfrom\u001b[39;00m\u001b[38;5;250m \u001b[39m\u001b[38;5;21;01mnltk\u001b[39;00m\u001b[38;5;250m \u001b[39m\u001b[38;5;28;01mimport\u001b[39;00m pos_tag, word_tokenize, RegexpTagger, CFG\n",
      "\u001b[1;31mModuleNotFoundError\u001b[0m: No module named 'nltk'"
     ]
    }
   ],
   "source": [
    "import nltk\n",
    "print(nltk.data.path)\n",
    "from nltk import pos_tag, word_tokenize, RegexpTagger, CFG\n",
    "from textblob import TextBlob"
   ]
  },
  {
   "cell_type": "code",
   "execution_count": 26,
   "metadata": {},
   "outputs": [
    {
     "name": "stderr",
     "output_type": "stream",
     "text": [
      "[nltk_data] Downloading package punkt_tab to\n",
      "[nltk_data]     C:\\Users\\User\\AppData\\Roaming\\nltk_data...\n",
      "[nltk_data]   Package punkt_tab is already up-to-date!\n",
      "[nltk_data] Downloading package averaged_perceptron_tagger_eng to\n",
      "[nltk_data]     C:\\Users\\User\\AppData\\Roaming\\nltk_data...\n",
      "[nltk_data]   Package averaged_perceptron_tagger_eng is already up-to-\n",
      "[nltk_data]       date!\n"
     ]
    },
    {
     "data": {
      "text/plain": [
       "True"
      ]
     },
     "execution_count": 26,
     "metadata": {},
     "output_type": "execute_result"
    }
   ],
   "source": [
    "nltk.download('punkt_tab')\n",
    "nltk.download('averaged_perceptron_tagger_eng')"
   ]
  },
  {
   "cell_type": "code",
   "execution_count": 27,
   "metadata": {},
   "outputs": [
    {
     "name": "stdout",
     "output_type": "stream",
     "text": [
      "The big black dog barked at the white cat and chased away.\n"
     ]
    }
   ],
   "source": [
    "with open(\"Data_2.txt\", \"r\") as file:\n",
    "    sentence = file.read().strip()\n",
    "    print(sentence)"
   ]
  },
  {
   "cell_type": "code",
   "execution_count": 28,
   "metadata": {},
   "outputs": [
    {
     "name": "stdout",
     "output_type": "stream",
     "text": [
      "NLTK POS Tagger output:\n",
      "[('The', 'DT'), ('big', 'JJ'), ('black', 'JJ'), ('dog', 'NN'), ('barked', 'VBD'), ('at', 'IN'), ('the', 'DT'), ('white', 'JJ'), ('cat', 'NN'), ('and', 'CC'), ('chased', 'VBD'), ('away', 'RB'), ('.', '.')]\n"
     ]
    }
   ],
   "source": [
    "tokens = word_tokenize(sentence)\n",
    "nltk_tags = pos_tag(tokens)\n",
    "print(\"NLTK POS Tagger output:\")\n",
    "print(nltk_tags)"
   ]
  },
  {
   "cell_type": "code",
   "execution_count": 29,
   "metadata": {},
   "outputs": [
    {
     "name": "stdout",
     "output_type": "stream",
     "text": [
      "\n",
      "TextBlob POS Tagger output:\n",
      "[('The', 'DT'), ('big', 'JJ'), ('black', 'JJ'), ('dog', 'NN'), ('barked', 'VBD'), ('at', 'IN'), ('the', 'DT'), ('white', 'JJ'), ('cat', 'NN'), ('and', 'CC'), ('chased', 'VBD'), ('away', 'RB')]\n"
     ]
    }
   ],
   "source": [
    "blob = TextBlob(sentence)\n",
    "textblob_tags = blob.tags\n",
    "print(\"\\nTextBlob POS Tagger output:\")\n",
    "print(textblob_tags)"
   ]
  },
  {
   "cell_type": "code",
   "execution_count": 30,
   "metadata": {},
   "outputs": [],
   "source": [
    "patterns = [\n",
    "    (r'.*ing$', 'VBG'),       # gerunds\n",
    "    (r'.*ed$', 'VBD'),        # past tense verbs\n",
    "    (r'.*es$', 'VBZ'),        # 3rd person singular present\n",
    "    (r'.*ould$', 'MD'),       # modals\n",
    "    (r'.*\\'s$', 'NN$'),       # possessive nouns\n",
    "    (r'.*s$', 'NNS'),         # plural nouns\n",
    "    (r'^-?[0-9]+(.[0-9]+)?$', 'CD'),  # cardinal numbers\n",
    "    (r'.*', 'NN')             # default to noun\n",
    "]"
   ]
  },
  {
   "cell_type": "code",
   "execution_count": 31,
   "metadata": {},
   "outputs": [
    {
     "name": "stdout",
     "output_type": "stream",
     "text": [
      "\n",
      "Regular Expression Tagger output:\n",
      "[('The', 'NN'), ('big', 'NN'), ('black', 'NN'), ('dog', 'NN'), ('barked', 'VBD'), ('at', 'NN'), ('the', 'NN'), ('white', 'NN'), ('cat', 'NN'), ('and', 'NN'), ('chased', 'VBD'), ('away', 'NN'), ('.', 'NN')]\n"
     ]
    }
   ],
   "source": [
    "regexp_tagger = RegexpTagger(patterns)\n",
    "regex_tags = regexp_tagger.tag(tokens)\n",
    "print(\"\\nRegular Expression Tagger output:\")\n",
    "print(regex_tags)"
   ]
  },
  {
   "cell_type": "code",
   "execution_count": 32,
   "metadata": {},
   "outputs": [],
   "source": [
    "grammar = CFG.fromstring(\"\"\"\n",
    "S    -> NP VP\n",
    "NP   -> Det AdjP N\n",
    "AdjP -> Adj | Adj AdjP\n",
    "VP   -> V PP\n",
    "PP   -> P NP\n",
    "Det  -> 'The' | 'the'\n",
    "N    -> 'fox' | 'dog'\n",
    "Adj  -> 'quick' | 'brown' | 'lazy'\n",
    "V    -> 'jumps'\n",
    "P    -> 'over'\n",
    "\"\"\")"
   ]
  },
  {
   "cell_type": "code",
   "execution_count": 33,
   "metadata": {},
   "outputs": [
    {
     "name": "stdout",
     "output_type": "stream",
     "text": [
      "\n",
      "Parse Trees:\n",
      "(S\n",
      "  (NP (Det The) (AdjP (Adj quick) (AdjP (Adj brown))) (N fox))\n",
      "  (VP\n",
      "    (V jumps)\n",
      "    (PP (P over) (NP (Det the) (AdjP (Adj lazy)) (N dog)))))\n",
      "                           S                        \n",
      "       ____________________|_________                \n",
      "      |                              VP             \n",
      "      |                     _________|___            \n",
      "      NP                   |             PP         \n",
      "  ____|_______________     |     ________|___        \n",
      " |        AdjP        |    |    |            NP     \n",
      " |     ____|_____     |    |    |     _______|____   \n",
      " |    |         AdjP  |    |    |    |      AdjP  | \n",
      " |    |          |    |    |    |    |       |    |  \n",
      "Det  Adj        Adj   N    V    P   Det     Adj   N \n",
      " |    |          |    |    |    |    |       |    |  \n",
      "The quick      brown fox jumps over the     lazy dog\n",
      "\n"
     ]
    }
   ],
   "source": [
    "tokens = ['The', 'quick', 'brown', 'fox', 'jumps', 'over', 'the', 'lazy', 'dog']\n",
    "parser = nltk.ChartParser(grammar)\n",
    "print(\"\\nParse Trees:\")\n",
    "for tree in parser.parse(tokens):\n",
    "    print(tree)\n",
    "    tree.pretty_print()\n"
   ]
  }
 ],
 "metadata": {
  "kernelspec": {
   "display_name": "Python 3",
   "language": "python",
   "name": "python3"
  },
  "language_info": {
   "codemirror_mode": {
    "name": "ipython",
    "version": 3
   },
   "file_extension": ".py",
   "mimetype": "text/x-python",
   "name": "python",
   "nbconvert_exporter": "python",
   "pygments_lexer": "ipython3",
   "version": "3.11.9"
  }
 },
 "nbformat": 4,
 "nbformat_minor": 2
}
