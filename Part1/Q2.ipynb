{
 "cells": [
  {
   "cell_type": "markdown",
   "metadata": {},
   "source": [
    "# Part A Question 2\n"
   ]
  },
  {
   "cell_type": "markdown",
   "metadata": {},
   "source": [
    "Load Text Data"
   ]
  },
  {
   "cell_type": "code",
   "execution_count": 2,
   "metadata": {},
   "outputs": [
    {
     "data": {
      "text/plain": [
       "'Classification is the task of choosing the correct class label for a given input. In basic\\nclassification tasks, each input is considered in isolation from all other inputs, and the set of labels is defined in advance. The basic classification task has a number of interesting variants. For example, in multiclass classification, each instance may be assigned multiple labels; in open-class classification, the set of labels is not defined in advance; and in sequence classification, a list of inputs are jointly classified.'"
      ]
     },
     "execution_count": 2,
     "metadata": {},
     "output_type": "execute_result"
    }
   ],
   "source": [
    "file = open(\"C:/Users/imand/Desktop/Achia/year3 sem1/TextAnalysis/Part A Dataset/Data_1.txt\")\n",
    "text = file.read()\n",
    "text"
   ]
  },
  {
   "cell_type": "markdown",
   "metadata": {},
   "source": [
    "## Stemming using Regular Expression"
   ]
  },
  {
   "cell_type": "code",
   "execution_count": 3,
   "metadata": {},
   "outputs": [
    {
     "name": "stdout",
     "output_type": "stream",
     "text": [
      "Original Text ~~~~~~~~~~\n",
      " ['Classification', 'is', 'the', 'task', 'of', 'choosing', 'the', 'correct', 'class', 'label', 'for', 'a', 'given', 'input', 'In', 'basic', 'classification', 'tasks', 'each', 'input', 'is', 'considered', 'in', 'isolation', 'from', 'all', 'other', 'inputs', 'and', 'the', 'set', 'of', 'labels', 'is', 'defined', 'in', 'advance', 'The', 'basic', 'classification', 'task', 'has', 'a', 'number', 'of', 'interesting', 'variants', 'For', 'example', 'in', 'multiclass', 'classification', 'each', 'instance', 'may', 'be', 'assigned', 'multiple', 'labels', 'in', 'open-class', 'classification', 'the', 'set', 'of', 'labels', 'is', 'not', 'defined', 'in', 'advance', 'and', 'in', 'sequence', 'classification', 'a', 'list', 'of', 'inputs', 'are', 'jointly', 'classified']\n",
      "\n",
      "Stemming using Regular Expression ~~~~~~~~~~\n",
      " ['Classification', 'i', 'the', 'task', 'of', 'choos', 'the', 'correct', 'clas', 'label', 'for', 'a', 'given', 'input', 'In', 'basic', 'classification', 'task', 'each', 'input', 'i', 'consider', 'in', 'isolation', 'from', 'all', 'other', 'input', 'and', 'the', 'set', 'of', 'label', 'i', 'defin', 'in', 'advance', 'The', 'basic', 'classification', 'task', 'ha', 'a', 'number', 'of', 'interest', 'variant', 'For', 'example', 'in', 'multiclas', 'classification', 'each', 'instance', 'may', 'be', 'assign', 'multiple', 'label', 'in', 'open-clas', 'classification', 'the', 'set', 'of', 'label', 'i', 'not', 'defin', 'in', 'advance', 'and', 'in', 'sequence', 'classification', 'a', 'list', 'of', 'input', 'are', 'jointly', 'classifi']\n"
     ]
    }
   ],
   "source": [
    "import re\n",
    "Re_tokens = re.findall(r'\\b[\\w-]+\\b', text)\n",
    "regex_stemmed = [re.sub(r'(ing|ed|s|able)$', '', word) for word in Re_tokens ]\n",
    "\n",
    "print(\"Original Text ~~~~~~~~~~\\n\",Re_tokens)\n",
    "print(\"\\nStemming using Regular Expression ~~~~~~~~~~\\n\",regex_stemmed)\n"
   ]
  },
  {
   "cell_type": "markdown",
   "metadata": {},
   "source": [
    "## Stemming using Porter Stemmer"
   ]
  },
  {
   "cell_type": "code",
   "execution_count": 5,
   "metadata": {},
   "outputs": [
    {
     "name": "stdout",
     "output_type": "stream",
     "text": [
      "Original Text ~~~~~~~~~~\n",
      " ['Classification', 'is', 'the', 'task', 'of', 'choosing', 'the', 'correct', 'class', 'label', 'for', 'a', 'given', 'input', '.', 'In', 'basic', 'classification', 'tasks', ',', 'each', 'input', 'is', 'considered', 'in', 'isolation', 'from', 'all', 'other', 'inputs', ',', 'and', 'the', 'set', 'of', 'labels', 'is', 'defined', 'in', 'advance', '.', 'The', 'basic', 'classification', 'task', 'has', 'a', 'number', 'of', 'interesting', 'variants', '.', 'For', 'example', ',', 'in', 'multiclass', 'classification', ',', 'each', 'instance', 'may', 'be', 'assigned', 'multiple', 'labels', ';', 'in', 'open-class', 'classification', ',', 'the', 'set', 'of', 'labels', 'is', 'not', 'defined', 'in', 'advance', ';', 'and', 'in', 'sequence', 'classification', ',', 'a', 'list', 'of', 'inputs', 'are', 'jointly', 'classified', '.']\n",
      "\n",
      "Stemming using Porter Stemmer ~~~~~~~~~~\n",
      " ['classif', 'is', 'the', 'task', 'of', 'choos', 'the', 'correct', 'class', 'label', 'for', 'a', 'given', 'input', '.', 'in', 'basic', 'classif', 'task', ',', 'each', 'input', 'is', 'consid', 'in', 'isol', 'from', 'all', 'other', 'input', ',', 'and', 'the', 'set', 'of', 'label', 'is', 'defin', 'in', 'advanc', '.', 'the', 'basic', 'classif', 'task', 'ha', 'a', 'number', 'of', 'interest', 'variant', '.', 'for', 'exampl', ',', 'in', 'multiclass', 'classif', ',', 'each', 'instanc', 'may', 'be', 'assign', 'multipl', 'label', ';', 'in', 'open-class', 'classif', ',', 'the', 'set', 'of', 'label', 'is', 'not', 'defin', 'in', 'advanc', ';', 'and', 'in', 'sequenc', 'classif', ',', 'a', 'list', 'of', 'input', 'are', 'jointli', 'classifi', '.']\n"
     ]
    }
   ],
   "source": [
    "from nltk.stem import PorterStemmer\n",
    "from nltk.tokenize import word_tokenize\n",
    "\n",
    "ps = PorterStemmer()\n",
    "\n",
    "PS_tokens = word_tokenize(text)  \n",
    "\n",
    "print(\"Original Text ~~~~~~~~~~\\n\",PS_tokens)\n",
    "print(\"\\nStemming using Porter Stemmer ~~~~~~~~~~\\n\",[ps.stem(w) for w in PS_tokens])"
   ]
  },
  {
   "cell_type": "markdown",
   "metadata": {},
   "source": [
    "## Stemming using Lancaster Stemmer"
   ]
  },
  {
   "cell_type": "code",
   "execution_count": 6,
   "metadata": {},
   "outputs": [
    {
     "name": "stdout",
     "output_type": "stream",
     "text": [
      "Original Text ~~~~~~~~~~\n",
      " ['Classification', 'is', 'the', 'task', 'of', 'choosing', 'the', 'correct', 'class', 'label', 'for', 'a', 'given', 'input', '.', 'In', 'basic', 'classification', 'tasks', ',', 'each', 'input', 'is', 'considered', 'in', 'isolation', 'from', 'all', 'other', 'inputs', ',', 'and', 'the', 'set', 'of', 'labels', 'is', 'defined', 'in', 'advance', '.', 'The', 'basic', 'classification', 'task', 'has', 'a', 'number', 'of', 'interesting', 'variants', '.', 'For', 'example', ',', 'in', 'multiclass', 'classification', ',', 'each', 'instance', 'may', 'be', 'assigned', 'multiple', 'labels', ';', 'in', 'open-class', 'classification', ',', 'the', 'set', 'of', 'labels', 'is', 'not', 'defined', 'in', 'advance', ';', 'and', 'in', 'sequence', 'classification', ',', 'a', 'list', 'of', 'inputs', 'are', 'jointly', 'classified', '.']\n",
      "\n",
      "Stemming using Lancaster Stemmer ~~~~~~~~~~\n",
      " ['class', 'is', 'the', 'task', 'of', 'choos', 'the', 'correct', 'class', 'label', 'for', 'a', 'giv', 'input', '.', 'in', 'bas', 'class', 'task', ',', 'each', 'input', 'is', 'consid', 'in', 'isol', 'from', 'al', 'oth', 'input', ',', 'and', 'the', 'set', 'of', 'label', 'is', 'defin', 'in', 'adv', '.', 'the', 'bas', 'class', 'task', 'has', 'a', 'numb', 'of', 'interest', 'vary', '.', 'for', 'exampl', ',', 'in', 'multiclass', 'class', ',', 'each', 'inst', 'may', 'be', 'assign', 'multipl', 'label', ';', 'in', 'open-class', 'class', ',', 'the', 'set', 'of', 'label', 'is', 'not', 'defin', 'in', 'adv', ';', 'and', 'in', 'sequ', 'class', ',', 'a', 'list', 'of', 'input', 'ar', 'joint', 'class', '.']\n"
     ]
    }
   ],
   "source": [
    "from nltk.stem import PorterStemmer, LancasterStemmer\n",
    "from nltk.tokenize import word_tokenize\n",
    "\n",
    "LS_tokens = word_tokenize(text)\n",
    "\n",
    "lancaster = LancasterStemmer()\n",
    "\n",
    "print(\"Original Text ~~~~~~~~~~\\n\",LS_tokens)\n",
    "print(\"\\nStemming using Lancaster Stemmer ~~~~~~~~~~\\n\", [lancaster.stem(t) for t in LS_tokens])"
   ]
  }
 ],
 "metadata": {
  "kernelspec": {
   "display_name": "Python 3",
   "language": "python",
   "name": "python3"
  },
  "language_info": {
   "codemirror_mode": {
    "name": "ipython",
    "version": 3
   },
   "file_extension": ".py",
   "mimetype": "text/x-python",
   "name": "python",
   "nbconvert_exporter": "python",
   "pygments_lexer": "ipython3",
   "version": "3.12.8"
  }
 },
 "nbformat": 4,
 "nbformat_minor": 2
}
