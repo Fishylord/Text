{
 "cells": [
  {
   "cell_type": "code",
   "execution_count": 12,
   "metadata": {},
   "outputs": [],
   "source": [
    "training_corpus = [\n",
    "    \"<s> He read a book </s>\".split(),\n",
    "    \"<s> I read a different book </s>\".split(),\n",
    "    \"<s> He read a book by Danielle </s>\".split()\n",
    "]\n",
    "target_sentence = \"<s> I read a book by Danielle </s>\".split()\n",
    "\n",
    "\n",
    "bigram_counts = {}   # holds values\n",
    "unigram_counts = {}  # holds preceding values"
   ]
  },
  {
   "cell_type": "code",
   "execution_count": 13,
   "metadata": {},
   "outputs": [],
   "source": [
    "# Loop over each sentence in the training corpus to update counts\n",
    "for sentence in training_corpus:\n",
    "    for i in range(len(sentence) - 1):\n",
    "        prev_word = sentence[i]\n",
    "        next_word = sentence[i + 1]\n",
    "        if prev_word not in bigram_counts:\n",
    "            bigram_counts[prev_word] = {}\n",
    "        bigram_counts[prev_word][next_word] = bigram_counts[prev_word].get(next_word, 0) + 1\n",
    "        unigram_counts[prev_word] = unigram_counts.get(prev_word, 0) + 1"
   ]
  },
  {
   "cell_type": "code",
   "execution_count": 14,
   "metadata": {},
   "outputs": [
    {
     "name": "stdout",
     "output_type": "stream",
     "text": [
      "Unsmoothed bigram probabilities:\n",
      "P(I|<s>) = 1/3 = 0.3333333333333333\n",
      "P(read|I) = 1/1 = 1.0\n",
      "P(a|read) = 3/3 = 1.0\n",
      "P(book|a) = 2/3 = 0.6666666666666666\n",
      "P(by|book) = 1/3 = 0.3333333333333333\n",
      "P(Danielle|by) = 1/1 = 1.0\n",
      "P(</s>|Danielle) = 1/1 = 1.0\n",
      "Total unsmoothed probability: 0.07407407407407407\n"
     ]
    }
   ],
   "source": [
    "# Calculate unsmoothed bigram probability for the target sentence\n",
    "unsmoothed_prob = 1.0\n",
    "print(\"Unsmoothed bigram probabilities:\")\n",
    "for i in range(len(target_sentence) - 1):\n",
    "    prev_word = target_sentence[i]\n",
    "    next_word = target_sentence[i + 1]\n",
    "    count_bigram = 0\n",
    "    if prev_word in bigram_counts:\n",
    "        count_bigram = bigram_counts[prev_word].get(next_word, 0)\n",
    "    count_prev = unigram_counts.get(prev_word, 0)\n",
    "    prob = count_bigram / count_prev if count_prev != 0 else 0\n",
    "    unsmoothed_prob *= prob\n",
    "    print(\"P({}|{}) = {}/{} = {}\".format(next_word, prev_word, count_bigram, count_prev, prob))\n",
    "print(\"Total unsmoothed probability:\", unsmoothed_prob)"
   ]
  },
  {
   "cell_type": "code",
   "execution_count": 17,
   "metadata": {},
   "outputs": [
    {
     "name": "stdout",
     "output_type": "stream",
     "text": [
      "\n",
      "Add-One Smoothed bigram probabilities:\n",
      "P(I|<s>) = (1+1)/(3+9) = 0.16666666666666666\n",
      "P(read|I) = (1+1)/(1+9) = 0.2\n",
      "P(a|read) = (3+1)/(3+9) = 0.3333333333333333\n",
      "P(book|a) = (2+1)/(3+9) = 0.25\n",
      "P(by|book) = (1+1)/(3+9) = 0.16666666666666666\n",
      "P(Danielle|by) = (1+1)/(1+9) = 0.2\n",
      "P(</s>|Danielle) = (1+1)/(1+9) = 0.2\n",
      "\n",
      "Total smoothed probability: 1.8518518518518515e-05\n"
     ]
    }
   ],
   "source": [
    "# Calculate smoothed bigram probabilities\n",
    "smoothed_prob = 1.0\n",
    "vocab_size = 9\n",
    "print(\"\\nAdd-One Smoothed bigram probabilities:\")\n",
    "for i in range(len(target_sentence) - 1):\n",
    "    prev_word = target_sentence[i]\n",
    "    next_word = target_sentence[i + 1]\n",
    "    count_bigram = 0\n",
    "    if prev_word in bigram_counts:\n",
    "        count_bigram = bigram_counts[prev_word].get(next_word, 0)\n",
    "    count_prev = unigram_counts.get(prev_word, 0)\n",
    "    prob = (count_bigram + 1) / (count_prev + vocab_size)\n",
    "    smoothed_prob *= prob\n",
    "    print(\"P({}|{}) = ({count_bigram}+1)/({count_prev}+{vocab_size}) = {prob}\".format(\n",
    "        next_word, prev_word, count_bigram=count_bigram, count_prev=count_prev, vocab_size=vocab_size, prob=prob))\n",
    "print(\"\\nTotal smoothed probability:\", smoothed_prob)"
   ]
  }
 ],
 "metadata": {
  "kernelspec": {
   "display_name": ".venv",
   "language": "python",
   "name": "python3"
  },
  "language_info": {
   "codemirror_mode": {
    "name": "ipython",
    "version": 3
   },
   "file_extension": ".py",
   "mimetype": "text/x-python",
   "name": "python",
   "nbconvert_exporter": "python",
   "pygments_lexer": "ipython3",
   "version": "3.11.9"
  }
 },
 "nbformat": 4,
 "nbformat_minor": 2
}
