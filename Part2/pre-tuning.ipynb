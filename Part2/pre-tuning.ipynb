{
 "cells": [
  {
   "cell_type": "code",
   "execution_count": null,
   "metadata": {},
   "outputs": [
    {
     "name": "stdout",
     "output_type": "stream",
     "text": [
      "Test Accuracy: 0.746\n",
      "              precision    recall  f1-score   support\n",
      "\n",
      "           0       0.76      0.72      0.74       507\n",
      "           1       0.73      0.77      0.75       493\n",
      "\n",
      "    accuracy                           0.75      1000\n",
      "   macro avg       0.75      0.75      0.75      1000\n",
      "weighted avg       0.75      0.75      0.75      1000\n",
      "\n"
     ]
    }
   ],
   "source": [
    "import pandas as pd\n",
    "from sklearn.pipeline import Pipeline, FeatureUnion\n",
    "from sklearn.feature_extraction.text import TfidfVectorizer\n",
    "from sklearn.svm import SVC\n",
    "from sklearn.metrics import classification_report, accuracy_score\n",
    "from sklearn.preprocessing import FunctionTransformer\n",
    "\n",
    "# Read the training CSV file, skipping the header row.\n",
    "train_df = pd.read_csv('clean_train.csv', skiprows=1, names=['Rating', 'Title', 'Review'])\n",
    "test_df = pd.read_csv('clean_test.csv', skiprows=1, names=['Rating', 'Title', 'Review'])\n",
    "# Randomly Selects a Sample of 500 from each \n",
    "train_df = train_df.sample(n=500).reset_index(drop=True)\n",
    "test_df = test_df.sample(n=500).reset_index(drop=True)\n",
    "\n",
    "# Ensure that the Title and Review columns are strings and fill NaN values.\n",
    "for col in ['Title', 'Review']:\n",
    "    train_df[col] = train_df[col].fillna('').astype(str)\n",
    "    test_df[col] = test_df[col].fillna('').astype(str)\n",
    "\n",
    "# X will be a DataFrame with two columns: Title and Review.\n",
    "X_train = train_df[['Title', 'Review']]\n",
    "y_train = train_df['Rating'].astype(int)  # ensure numeric labels\n",
    "\n",
    "X_test = test_df[['Title', 'Review']]\n",
    "y_test = test_df['Rating'].astype(int)\n",
    "\n",
    "# Create column selectors using FunctionTransformer.\n",
    "get_title = FunctionTransformer(lambda x: x['Title'], validate=False)\n",
    "get_review = FunctionTransformer(lambda x: x['Review'], validate=False)\n",
    "\n",
    "# Build separate pipelines for processing Title and Review.\n",
    "title_pipeline = Pipeline([\n",
    "    ('selector', get_title),\n",
    "    ('tfidf', TfidfVectorizer(stop_words='english', max_df=0.95, min_df=5))\n",
    "])\n",
    "review_pipeline = Pipeline([\n",
    "    ('selector', get_review),\n",
    "    ('tfidf', TfidfVectorizer(stop_words='english', max_df=0.95, min_df=5))\n",
    "])\n",
    "\n",
    "# Combine the pipelines with FeatureUnion, applying different weights.\n",
    "combined_features = FeatureUnion(\n",
    "    transformer_list=[\n",
    "        ('title', title_pipeline),\n",
    "        ('review', review_pipeline)\n",
    "    ],\n",
    "    transformer_weights={'title': 0.2, 'review': 0.8}  # adjust weights as needed\n",
    ")\n",
    "\n",
    "# Create the final pipeline with the combined features and an SVM classifier.\n",
    "pipeline = Pipeline([\n",
    "    ('features', combined_features),\n",
    "    ('svc', SVC())  # Using default hyperparameters\n",
    "])\n",
    "\n",
    "# Train the pipeline on the training data.\n",
    "pipeline.fit(X_train, y_train)\n",
    "\n",
    "# Predict on the test set and evaluate the performance.\n",
    "y_pred = pipeline.predict(X_test)\n",
    "print(\"Test Accuracy:\", accuracy_score(y_test, y_pred))\n",
    "print(classification_report(y_test, y_pred))\n"
   ]
  }
 ],
 "metadata": {
  "kernelspec": {
   "display_name": ".venv",
   "language": "python",
   "name": "python3"
  },
  "language_info": {
   "codemirror_mode": {
    "name": "ipython",
    "version": 3
   },
   "file_extension": ".py",
   "mimetype": "text/x-python",
   "name": "python",
   "nbconvert_exporter": "python",
   "pygments_lexer": "ipython3",
   "version": "3.11.9"
  }
 },
 "nbformat": 4,
 "nbformat_minor": 2
}
