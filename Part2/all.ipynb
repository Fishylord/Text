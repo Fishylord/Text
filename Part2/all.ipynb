{
 "cells": [
  {
   "cell_type": "code",
   "execution_count": 27,
   "metadata": {},
   "outputs": [
    {
     "name": "stderr",
     "output_type": "stream",
     "text": [
      "\n",
      "\n",
      "\n",
      "\n",
      "\n",
      "\n",
      "\n",
      "\n",
      "\n",
      "\u001b[A\u001b[A\u001b[A\u001b[A\u001b[A\u001b[A\u001b[A\u001b[A\u001b[A"
     ]
    },
    {
     "data": {
      "application/vnd.jupyter.widget-view+json": {
       "model_id": "e35df75556de46f3be53d4fd1348442d",
       "version_major": 2,
       "version_minor": 0
      },
      "text/plain": [
       "  0%|          | 0/36 [00:00<?, ?it/s]"
      ]
     },
     "metadata": {},
     "output_type": "display_data"
    },
    {
     "name": "stdout",
     "output_type": "stream",
     "text": [
      "Fitting 3 folds for each of 12 candidates, totalling 36 fits\n"
     ]
    },
    {
     "name": "stderr",
     "output_type": "stream",
     "text": [
      "GridSearchCV Progress:   0%|          | 0/36 [34:33<?, ?it/s]"
     ]
    },
    {
     "name": "stdout",
     "output_type": "stream",
     "text": [
      "Best parameters: {'svc__C': 1, 'svc__gamma': 'scale', 'svc__kernel': 'rbf'}\n",
      "Test Accuracy: 0.732\n",
      "              precision    recall  f1-score   support\n",
      "\n",
      "           0       0.75      0.74      0.74       528\n",
      "           1       0.71      0.72      0.72       472\n",
      "\n",
      "    accuracy                           0.73      1000\n",
      "   macro avg       0.73      0.73      0.73      1000\n",
      "weighted avg       0.73      0.73      0.73      1000\n",
      "\n"
     ]
    },
    {
     "name": "stderr",
     "output_type": "stream",
     "text": [
      "\n"
     ]
    }
   ],
   "source": [
    "import pandas as pd\n",
    "from sklearn.pipeline import Pipeline, FeatureUnion\n",
    "from sklearn.feature_extraction.text import TfidfVectorizer\n",
    "from sklearn.svm import SVC\n",
    "from sklearn.model_selection import GridSearchCV\n",
    "from sklearn.metrics import classification_report, accuracy_score\n",
    "from sklearn.preprocessing import FunctionTransformer\n",
    "from tqdm import tqdm\n",
    "from tqdm_joblib import tqdm_joblib\n",
    "\n",
    "# Read the training CSV file, skipping the header row.\n",
    "train_df = pd.read_csv('clean_train.csv', skiprows=1, names=['Rating', 'Title', 'Review'])\n",
    "# Randomly select 500 rows for training.\n",
    "train_df = train_df.sample(n=500).reset_index(drop=True)\n",
    "\n",
    "# Read the test CSV file, skipping the header row.\n",
    "test_df = pd.read_csv('clean_test.csv', skiprows=1, names=['Rating', 'Title', 'Review'])\n",
    "# Randomly select 1000 rows for testing.\n",
    "test_df = test_df.sample(n=1000).reset_index(drop=True)\n",
    "\n",
    "# Ensure that the Title and Review columns are strings and fill NaN values.\n",
    "for col in ['Title', 'Review']:\n",
    "    train_df[col] = train_df[col].fillna('').astype(str)\n",
    "    test_df[col] = test_df[col].fillna('').astype(str)\n",
    "\n",
    "# X will be a DataFrame with two columns: Title and Review.\n",
    "X_train = train_df[['Title', 'Review']]\n",
    "y_train = train_df['Rating'].astype(int)  # ensure numeric labels\n",
    "\n",
    "X_test = test_df[['Title', 'Review']]\n",
    "y_test = test_df['Rating'].astype(int)\n",
    "\n",
    "# Create column selectors using FunctionTransformer.\n",
    "get_title = FunctionTransformer(lambda x: x['Title'], validate=False)\n",
    "get_review = FunctionTransformer(lambda x: x['Review'], validate=False)\n",
    "\n",
    "# Build separate pipelines for processing Title and Review.\n",
    "title_pipeline = Pipeline([\n",
    "    ('selector', get_title),\n",
    "    ('tfidf', TfidfVectorizer(stop_words='english', max_df=0.95, min_df=5))\n",
    "])\n",
    "review_pipeline = Pipeline([\n",
    "    ('selector', get_review),\n",
    "    ('tfidf', TfidfVectorizer(stop_words='english', max_df=0.95, min_df=5))\n",
    "])\n",
    "\n",
    "# Combine the pipelines with FeatureUnion, applying different weights.\n",
    "combined_features = FeatureUnion(\n",
    "    transformer_list=[\n",
    "        ('title', title_pipeline),\n",
    "        ('review', review_pipeline)\n",
    "    ],\n",
    "    transformer_weights={'title': 0.2, 'review': 0.8}  # adjust weights as needed\n",
    ")\n",
    "\n",
    "# Create the final pipeline with the combined features and an SVM classifier.\n",
    "pipeline = Pipeline([\n",
    "    ('features', combined_features),\n",
    "    ('svc', SVC())\n",
    "])\n",
    "\n",
    "# Define a parameter grid for tuning the SVM hyperparameters.\n",
    "param_grid = {\n",
    "    'svc__C': [0.1, 1, 10],\n",
    "    'svc__kernel': ['linear', 'rbf'],\n",
    "    'svc__gamma': ['scale', 'auto']\n",
    "}\n",
    "\n",
    "# Set up GridSearchCV with 3-fold cross-validation.\n",
    "grid_search = GridSearchCV(pipeline, param_grid, cv=3, verbose=2, n_jobs=-1)\n",
    "\n",
    "# Calculate the total number of fits for the progress bar:\n",
    "# (number of candidate parameter combinations * number of folds)\n",
    "n_candidates = len(param_grid['svc__C']) * len(param_grid['svc__kernel']) * len(param_grid['svc__gamma'])\n",
    "total_fits = n_candidates * 3\n",
    "\n",
    "# Use tqdm_joblib to track progress during grid search.\n",
    "with tqdm_joblib(tqdm(total=total_fits, desc=\"GridSearchCV Progress\")):\n",
    "    grid_search.fit(X_train, y_train)\n",
    "\n",
    "# Print the best hyperparameters found.\n",
    "print(\"Best parameters:\", grid_search.best_params_)\n",
    "\n",
    "# Predict on the test set and evaluate the performance.\n",
    "y_pred = grid_search.predict(X_test)\n",
    "print(\"Test Accuracy:\", accuracy_score(y_test, y_pred))\n",
    "print(classification_report(y_test, y_pred))\n"
   ]
  }
 ],
 "metadata": {
  "kernelspec": {
   "display_name": ".venv",
   "language": "python",
   "name": "python3"
  },
  "language_info": {
   "codemirror_mode": {
    "name": "ipython",
    "version": 3
   },
   "file_extension": ".py",
   "mimetype": "text/x-python",
   "name": "python",
   "nbconvert_exporter": "python",
   "pygments_lexer": "ipython3",
   "version": "3.11.9"
  }
 },
 "nbformat": 4,
 "nbformat_minor": 2
}
